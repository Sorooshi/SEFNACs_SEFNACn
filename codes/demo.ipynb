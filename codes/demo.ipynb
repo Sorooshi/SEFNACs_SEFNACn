{
 "cells": [
  {
   "cell_type": "code",
   "execution_count": 4,
   "metadata": {},
   "outputs": [],
   "source": [
    "import numpy as np\n",
    "import SEFNACs as SS\n",
    "import SEFNACn as SN\n",
    "from sklearn import metrics\n",
    "import processing_tools as pt\n",
    "\n"
   ]
  },
  {
   "cell_type": "markdown",
   "metadata": {},
   "source": [
    "### Load dataset"
   ]
  },
  {
   "cell_type": "code",
   "execution_count": 5,
   "metadata": {},
   "outputs": [
    {
     "name": "stdout",
     "output_type": "stream",
     "text": [
      "(46, 46) (46, 5) (46,)\n"
     ]
    }
   ],
   "source": [
    "p = np.loadtxt(\"../data/COSN/P.npy\")\n",
    "y = np.loadtxt(\"../data/COSN/Y.npy\")\n",
    "gt = np.load(\"../data/COSN/ground_truth.npy\")\n",
    "\n",
    "print(p.shape, y.shape, gt.shape)"
   ]
  },
  {
   "cell_type": "markdown",
   "metadata": {},
   "source": [
    "### preprocessing the data"
   ]
  },
  {
   "cell_type": "code",
   "execution_count": 6,
   "metadata": {},
   "outputs": [],
   "source": [
    "p_, _, _, p_u, _, _, p_m, _, _, p_l, _, _ = pt.preprocess_p(p=p)\n",
    "\n",
    "\n",
    "y_, _, y_z, _, y_rng, _, = pt.preprocess_y(y_in=y, data_type='Q')"
   ]
  },
  {
   "cell_type": "code",
   "execution_count": 7,
   "metadata": {},
   "outputs": [
    {
     "data": {
      "text/plain": [
       "((46, 46), (46, 5))"
      ]
     },
     "execution_count": 7,
     "metadata": {},
     "output_type": "execute_result"
    }
   ],
   "source": [
    "p_u.shape, y_z.shape"
   ]
  },
  {
   "cell_type": "markdown",
   "metadata": {},
   "source": [
    "## Applying SEFNAC\n",
    "\n",
    "### Random Initialization"
   ]
  },
  {
   "cell_type": "code",
   "execution_count": 8,
   "metadata": {},
   "outputs": [
    {
     "data": {
      "text/plain": [
       "9"
      ]
     },
     "execution_count": 8,
     "metadata": {},
     "output_type": "execute_result"
    }
   ],
   "source": [
    "np.random.seed(21)  # seed=16 >> better SEFNACn; seed=19 >> better SEFNACs, seed=21 >> both \n",
    "seed = np.random.randint(y_z.shape[0])\n",
    "seed"
   ]
  },
  {
   "cell_type": "markdown",
   "metadata": {},
   "source": [
    "### SEFNACs"
   ]
  },
  {
   "cell_type": "code",
   "execution_count": 9,
   "metadata": {},
   "outputs": [],
   "source": [
    "SEFNACs_results_ = SS.run_ANomalous_Cluster(pivot=seed, Y=y_z, P=p_u, rho_f=1, rho_g=1,)"
   ]
  },
  {
   "cell_type": "markdown",
   "metadata": {},
   "source": [
    "### SEFNACn"
   ]
  },
  {
   "cell_type": "code",
   "execution_count": 10,
   "metadata": {},
   "outputs": [],
   "source": [
    "SEFNACn_results_ = SN.run_ANomalous_Cluster(pivot=seed, y=y_z, p=p_u, rho=1, xi=1,)"
   ]
  },
  {
   "cell_type": "markdown",
   "metadata": {},
   "source": [
    "- The clustering results are dict of dict. \n",
    "To apply ARI from SKlearn, we need a 1-D array/list.\n",
    "Thus we convert them by calling function flat_cluster_results."
   ]
  },
  {
   "cell_type": "code",
   "execution_count": 11,
   "metadata": {},
   "outputs": [],
   "source": [
    "SEFNACs_results, _ = pt.flat_cluster_results(SEFNACs_results_)"
   ]
  },
  {
   "cell_type": "code",
   "execution_count": 12,
   "metadata": {},
   "outputs": [],
   "source": [
    "SEFNACn_results, _ = pt.flat_cluster_results(SEFNACn_results_)"
   ]
  },
  {
   "cell_type": "code",
   "execution_count": null,
   "metadata": {},
   "outputs": [],
   "source": []
  },
  {
   "cell_type": "code",
   "execution_count": 13,
   "metadata": {},
   "outputs": [
    {
     "name": "stdout",
     "output_type": "stream",
     "text": [
      "SEFNACs ARI: 0.6652270241467314 \n",
      "SEFNACn ARI: 0.5762835431679892\n"
     ]
    }
   ],
   "source": [
    "print(\"SEFNACs ARI:\", metrics.adjusted_rand_score(gt, SEFNACs_results), \"\\n\"\n",
    "      \"SEFNACn ARI:\", metrics.adjusted_rand_score(gt, SEFNACn_results),)"
   ]
  },
  {
   "cell_type": "markdown",
   "metadata": {},
   "source": [
    "Note: Since the quality of recovered clustering results depends on the initialization point, thus in the paper, we reported the average and standard deviation of the results over 10 different initialization.\n",
    "And here, we merely demonstrate a sample call for the proposed algorithms. "
   ]
  },
  {
   "cell_type": "code",
   "execution_count": null,
   "metadata": {},
   "outputs": [],
   "source": []
  }
 ],
 "metadata": {
  "kernelspec": {
   "display_name": "tfGvenv",
   "language": "python",
   "name": "tfgvenv"
  },
  "language_info": {
   "codemirror_mode": {
    "name": "ipython",
    "version": 3
   },
   "file_extension": ".py",
   "mimetype": "text/x-python",
   "name": "python",
   "nbconvert_exporter": "python",
   "pygments_lexer": "ipython3",
   "version": "3.7.10"
  }
 },
 "nbformat": 4,
 "nbformat_minor": 5
}
