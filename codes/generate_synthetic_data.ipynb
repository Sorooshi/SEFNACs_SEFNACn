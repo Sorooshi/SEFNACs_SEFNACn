{
 "cells": [
  {
   "cell_type": "code",
   "execution_count": 2,
   "metadata": {},
   "outputs": [],
   "source": [
    "import os\n",
    "import pickle\n",
    "import random\n",
    "import itertools\n",
    "import numpy as np\n",
    "import pandas as pd\n",
    "import seaborn as sns\n",
    "import networkx  as nx\n",
    "import evaluation as ev\n",
    "from copy import deepcopy\n",
    "from sklearn import metrics\n",
    "import matplotlib.pyplot as plt\n",
    "import matplotlib.pyplot as plt\n",
    "from pandas import DataFrame as df\n",
    "from collections import OrderedDict\n",
    "from sklearn.decomposition import PCA\n",
    "import synthetic_data_generator as sdg\n",
    "from sklearn.preprocessing import OneHotEncoder\n",
    "\n",
    "np.set_printoptions(suppress=True, linewidth=120, precision=2)"
   ]
  },
  {
   "cell_type": "markdown",
   "metadata": {},
   "source": [
    "# Clusters Specification and Experimental settings"
   ]
  },
  {
   "cell_type": "code",
   "execution_count": 2,
   "metadata": {},
   "outputs": [
    {
     "name": "stdout",
     "output_type": "stream",
     "text": [
      "pr_wtn pr_bwn pr_v\n",
      "(0.7, 0.3, 0.7)\n",
      "(0.7, 0.3, 0.9)\n",
      "(0.7, 0.6, 0.7)\n",
      "(0.7, 0.6, 0.9)\n",
      "(0.9, 0.3, 0.7)\n",
      "(0.9, 0.3, 0.9)\n",
      "(0.9, 0.6, 0.7)\n",
      "(0.9, 0.6, 0.9)\n"
     ]
    }
   ],
   "source": [
    "NUM_Repeats = 10\n",
    "size = (1000, 10, 15) \n",
    "N, V, K = size[0], size[1], size[2]\n",
    "\n",
    "pr_wtn = set([0.7, 0.9,])  # p in the paper\n",
    "pr_btw = set([0.3, 0.6,])  # q in the paper\n",
    "pr_v   = set([0.7, 0.9,])  # \\epsilon OR \\alpha in the paper \n",
    "settings_quant = list(itertools.product(pr_wtn, pr_btw, pr_v))\n",
    "print(\"pr_wtn\", \"pr_bwn\", \"pr_v\")\n",
    "for l in settings_quant:\n",
    "    print(l)\n"
   ]
  },
  {
   "cell_type": "markdown",
   "metadata": {},
   "source": [
    "### Generate the Attributed Network with afromention setting and Quantatitive features"
   ]
  },
  {
   "cell_type": "code",
   "execution_count": null,
   "metadata": {},
   "outputs": [],
   "source": [
    "# name = 'S'\n",
    "# data = {}  \n",
    "\n",
    "# repeats = list(range(NUM_Repeats))\n",
    "\n",
    "# features_type = 'Q'\n",
    "\n",
    "# for setting in settings_quant:\n",
    "#     data[setting] = {}\n",
    "#     for repeat in repeats:\n",
    "        \n",
    "#         cardinality = sdg.clusters_cardinality(N=N, K=K)  # cluster cardinalities\n",
    "#         data[setting][repeat] = {}\n",
    "        \n",
    "#         Y, Yn = sdg.generate_Y(N=N, V=V, K=K, pr_v=setting[-1],\n",
    "#                                cardinality=cardinality, \n",
    "#                                features_type=features_type,\n",
    "#                                V_noise1= int(np.floor(V/2))\n",
    "#                               )\n",
    "        \n",
    "#         P = sdg.generate_P(N=N, \n",
    "#                            cardinality=cardinality,\n",
    "#                            p_wth=setting[0],\n",
    "#                            p_btw=setting[1],\n",
    "#                           )\n",
    "        \n",
    "#         data[setting][repeat]['Y']  = Y\n",
    "#         data[setting][repeat]['Yn'] = Yn  # with noise\n",
    "#         data[setting][repeat]['P']  = P\n",
    "#         data[setting][repeat]['GT'] = cardinality  # Ground Truth\n",
    "\n",
    "        \n",
    "# with open (os.path.join('SANC_computation', name+features_type+str(size)+'.pickle'), 'wb') as fp:\n",
    "#     pickle.dump(data, fp)"
   ]
  },
  {
   "cell_type": "markdown",
   "metadata": {},
   "source": [
    "### Generate the Attributed Network with afromention setting and Categorical features"
   ]
  },
  {
   "cell_type": "code",
   "execution_count": null,
   "metadata": {},
   "outputs": [],
   "source": [
    "# name = 'S' \n",
    "# data = {}  \n",
    "\n",
    "# repeats = list(range(NUM_Repeats))\n",
    "\n",
    "# features_type = 'C'\n",
    "\n",
    "# for setting in settings_quant:\n",
    "#     data[setting] = {}\n",
    "#     for repeat in repeats:\n",
    "        \n",
    "#         cardinality = sdg.clusters_cardinality(N=N, K=K)  # cluster cardinalities\n",
    "        \n",
    "#         data[setting][repeat] = {}\n",
    "        \n",
    "#         Y, Yn = sdg.generate_Y(N=N, V=V, K=K, pr_v=setting[-1],\n",
    "#                                cardinality=cardinality, \n",
    "#                                features_type=features_type,\n",
    "#                                V_noise1=int(np.ceil(V/2))\n",
    "#                               )\n",
    "        \n",
    "#         P = sdg.generate_P(N=N,\n",
    "#                             cardinality=cardinality,\n",
    "#                             p_wth=setting[0],\n",
    "#                             p_btw=setting[1],\n",
    "#                            )\n",
    "        \n",
    "#         data[setting][repeat]['Y']  = Y\n",
    "#         data[setting][repeat]['Yn'] = Yn  # with noise\n",
    "#         data[setting][repeat]['P']  = P\n",
    "#         data[setting][repeat]['GT'] = cardinality  # Ground Truth\n",
    "\n",
    "# with open (os.path.join('SANC_computation', name+features_type+str(size)+'.pickle'), 'wb') as fp:\n",
    "#     pickle.dump(data, fp)"
   ]
  },
  {
   "cell_type": "markdown",
   "metadata": {},
   "source": [
    "### Generate the Attributed Network with afromention setting and Mixed features"
   ]
  },
  {
   "cell_type": "code",
   "execution_count": null,
   "metadata": {},
   "outputs": [],
   "source": [
    "# name = 'S'\n",
    "# data = {}  \n",
    "\n",
    "# repeats = list(range(NUM_Repeats))\n",
    "\n",
    "# features_type = 'M'\n",
    "\n",
    "# for setting in settings_quant:\n",
    "#     data[setting] = {}\n",
    "#     for repeat in repeats:\n",
    "        \n",
    "#         cardinality = sdg.clusters_cardinality(N=N, K=K)  # cluster cardinalities\n",
    "        \n",
    "#         data[setting][repeat] = {}\n",
    "        \n",
    "#         Y, Yn = sdg.generate_Y(N=N, V=V, K=K, pr_v=setting[-1],\n",
    "#                                cardinality=cardinality, \n",
    "#                                features_type=features_type,\n",
    "#                                V_noise1=int(np.ceil(V/2))\n",
    "#                               )\n",
    "        \n",
    "#         P = sdg.generate_P(N=N,\n",
    "#                            cardinality=cardinality,\n",
    "#                            p_wth=setting[0],\n",
    "#                            p_btw=setting[1],\n",
    "#                           )\n",
    "        \n",
    "#         data[setting][repeat]['Y']  = Y\n",
    "#         data[setting][repeat]['Yn'] = Yn  # with noise\n",
    "#         data[setting][repeat]['P']  = P \n",
    "#         data[setting][repeat]['GT'] = cardinality  # Ground Truth\n",
    "\n",
    "        \n",
    "# with open (os.path.join('SANC_computation', name+features_type+str(size)+'.pickle'), 'wb') as fp:\n",
    "#     pickle.dump(data, fp)"
   ]
  },
  {
   "cell_type": "markdown",
   "metadata": {},
   "source": [
    "#### Visulize a Y - Quantatitve\n"
   ]
  },
  {
   "cell_type": "code",
   "execution_count": 3,
   "metadata": {},
   "outputs": [],
   "source": [
    "with open(os.path.join('SANC_computation', 'SQ(200, 5, 5).pickle'), 'rb') as fp:\n",
    "    SAN_q = pickle.load(fp)"
   ]
  },
  {
   "cell_type": "code",
   "execution_count": 6,
   "metadata": {},
   "outputs": [],
   "source": [
    "# for k, v in SAN_q.items():\n",
    "#     print(k)\n",
    "#     for kk, vv in v.items():\n",
    "#         print(\"kk:\", kk)"
   ]
  },
  {
   "cell_type": "code",
   "execution_count": null,
   "metadata": {},
   "outputs": [],
   "source": [
    "key = (0.7, 0.6, 0.9)\n",
    "repeat_num = 3\n",
    "Y1 = SAN_q[key][repeat_num]['Y']\n",
    "t1 = pd.DataFrame(Y1)  # Create a Pandas DataFrame to plot scatter plots and Histogram of Y\n",
    "P1 = SAN_q[key][repeat_num]['P']\n",
    "GT1 = SAN_q[key][repeat_num]['GT']\n",
    "sns.pairplot(t1)\n",
    "plt.show()"
   ]
  },
  {
   "cell_type": "code",
   "execution_count": null,
   "metadata": {},
   "outputs": [],
   "source": [
    "# P2 = SAN_q[(0.7, 0.9, 0.1)][1]['P']\n",
    "# GT2 = SAN_q[(0.7, 0.9, 0.1)][1]['GT']\n",
    "# Gp2 = nx.from_numpy_array(P2)\n",
    "# labels_nx_org = {}\n",
    "# for i in range(N):\n",
    "#     labels_nx_org[i] = i\n",
    "    \n",
    "\n",
    "# # plt.figure(figsize=(15, 7.5))\n",
    "# pos_org = nx.kamada_kawai_layout(Gp2)\n",
    "\n",
    "# nx.draw_networkx(G=Gp2, pos=pos_org, nodelist=list(range(0, N)),\n",
    "#                  labels=labels_nx_org, alpha=0.7,\n",
    "#                  width=.3, node_color=['g', 'g', 'g', 'g',\n",
    "#                                        'r', 'r', 'r', 'r', 'r',\n",
    "#                                        'b', 'b', 'b', 'b', 'b', 'b'], node_size=200)\n",
    "# plt.title(\"setting: (0.7, 0.9, 0.1)\")\n",
    "# plt.show()"
   ]
  },
  {
   "cell_type": "code",
   "execution_count": null,
   "metadata": {},
   "outputs": [],
   "source": [
    "def flat_ground_truth(ground_truth):\n",
    "    k = 0\n",
    "    labels_true, labels_true_indices = [], []\n",
    "    for v in ground_truth:\n",
    "        for vv in v:\n",
    "            labels_true.append(int(k))\n",
    "            labels_true_indices.append(vv)\n",
    "        k += 1\n",
    "        \n",
    "    return labels_true, labels_true_indices"
   ]
  },
  {
   "cell_type": "markdown",
   "metadata": {},
   "source": [
    "### Compute PCA "
   ]
  },
  {
   "cell_type": "code",
   "execution_count": null,
   "metadata": {},
   "outputs": [],
   "source": [
    "pca = PCA(n_components=2)\n",
    "Y_r1 = pca.fit(Y1).transform(Y1)\n",
    "GT = SAN_q[key][repeat_num]['GT']"
   ]
  },
  {
   "cell_type": "code",
   "execution_count": null,
   "metadata": {},
   "outputs": [],
   "source": [
    "GT = SAN_q[key][repeat_num]['GT']\n",
    "labels = []\n",
    "k = 0\n",
    "for v in GT:\n",
    "    labels += [int(k) for vv in range(v)]\n",
    "    k += 1"
   ]
  },
  {
   "cell_type": "code",
   "execution_count": null,
   "metadata": {
    "scrolled": true
   },
   "outputs": [],
   "source": [
    "plt.figure()\n",
    "lw = 2\n",
    "plt.scatter(Y_r1[:, 0], Y_r1[:, 1], c=labels)\n",
    "plt.show()"
   ]
  },
  {
   "cell_type": "code",
   "execution_count": null,
   "metadata": {},
   "outputs": [],
   "source": [
    "fig = plt.figure(figsize=(7, 7))\n",
    "plt.imshow(P1)\n",
    "plt.show()"
   ]
  },
  {
   "cell_type": "markdown",
   "metadata": {},
   "source": [
    "### Compute PCA - With noisy features"
   ]
  },
  {
   "cell_type": "code",
   "execution_count": null,
   "metadata": {},
   "outputs": [],
   "source": [
    "Y1n = SAN_q[key][repeat_num]['Yn']\n",
    "pca = PCA(n_components=2)\n",
    "Yn_r1 = pca.fit(Y1n).transform(Y1n)"
   ]
  },
  {
   "cell_type": "code",
   "execution_count": null,
   "metadata": {
    "scrolled": true
   },
   "outputs": [],
   "source": [
    "plt.figure()\n",
    "lw = 2\n",
    "target_names = list(range(V))\n",
    "\n",
    "plt.scatter(Yn_r1[:, 0], Yn_r1[:, 1], c=labels)\n",
    "plt.show()"
   ]
  },
  {
   "cell_type": "code",
   "execution_count": null,
   "metadata": {},
   "outputs": [],
   "source": [
    "Y1.shape, Y1n.shape"
   ]
  },
  {
   "cell_type": "markdown",
   "metadata": {},
   "source": [
    "### Draw the coresponding P"
   ]
  },
  {
   "cell_type": "markdown",
   "metadata": {},
   "source": [
    "### Categorical Case"
   ]
  },
  {
   "cell_type": "code",
   "execution_count": null,
   "metadata": {},
   "outputs": [],
   "source": [
    "with open(os.path.join('SANC_computation', 'SC(200, 5, 5).pickle'), 'rb') as fp:\n",
    "    SAN_c = pickle.load(fp)"
   ]
  },
  {
   "cell_type": "code",
   "execution_count": null,
   "metadata": {},
   "outputs": [],
   "source": [
    "for k, v in SAN_c.items():\n",
    "    print(k)"
   ]
  },
  {
   "cell_type": "code",
   "execution_count": null,
   "metadata": {},
   "outputs": [],
   "source": [
    "key = (0.7, 0.4, 0.9)\n",
    "Y1c = SAN_c[key][1]['Y']\n",
    "P1c = SAN_c[key][1]['P']\n",
    "GT = SAN_c[key][1]['GT']\n",
    "t1c = pd.DataFrame(Y1c)  # Create a Pandas DataFrame to plot scatter plots and Histogram of Y\n",
    "sns.pairplot(t1c)\n",
    "plt.show()"
   ]
  },
  {
   "cell_type": "markdown",
   "metadata": {},
   "source": [
    "### Compute PCA "
   ]
  },
  {
   "cell_type": "code",
   "execution_count": null,
   "metadata": {},
   "outputs": [],
   "source": [
    "pca = PCA(n_components=2)\n",
    "Y_r1c = pca.fit(Y1c).transform(Y1c)"
   ]
  },
  {
   "cell_type": "code",
   "execution_count": null,
   "metadata": {
    "scrolled": true
   },
   "outputs": [],
   "source": [
    "labels = []\n",
    "k = 0\n",
    "for v in GT:\n",
    "    labels += [int(k) for vv in range(v)]\n",
    "    k += 1\n",
    "plt.figure()\n",
    "lw = 2\n",
    "plt.scatter(Y_r1c[:, 0], Y_r1c[:, 1], c=labels)\n",
    "plt.show()"
   ]
  },
  {
   "cell_type": "code",
   "execution_count": null,
   "metadata": {},
   "outputs": [],
   "source": [
    "# LOAD Entity-to-feature matrix\n",
    "\n",
    "plt.imshow(Y1c,  interpolation='None', aspect='auto', cmap='cool_r')\n",
    "plt.title(\"The Corresponding entity-to-feature matrix\")\n",
    "plt.colorbar()\n",
    "plt.show()\n"
   ]
  },
  {
   "cell_type": "code",
   "execution_count": null,
   "metadata": {
    "scrolled": false
   },
   "outputs": [],
   "source": [
    "for k, v in SAN_c.items():\n",
    "    if k == (0.9, 0.1, 0.9):\n",
    "        for kk, vv in v.items():\n",
    "            print(\"GT:\")\n",
    "            print(vv['GT'])"
   ]
  },
  {
   "cell_type": "code",
   "execution_count": null,
   "metadata": {},
   "outputs": [],
   "source": [
    "fig = plt.figure(figsize=(7, 7))\n",
    "plt.imshow(P1c)\n",
    "plt.show()"
   ]
  },
  {
   "cell_type": "markdown",
   "metadata": {},
   "source": [
    "### Mixed Case"
   ]
  },
  {
   "cell_type": "code",
   "execution_count": null,
   "metadata": {},
   "outputs": [],
   "source": [
    "with open(os.path.join('SANC_computation', 'SM(200, 5, 5).pickle'), 'rb') as fp:\n",
    "    SAN_m = pickle.load(fp)"
   ]
  },
  {
   "cell_type": "code",
   "execution_count": null,
   "metadata": {},
   "outputs": [],
   "source": [
    "for k, v in SAN_m.items():\n",
    "    print(k)"
   ]
  },
  {
   "cell_type": "code",
   "execution_count": null,
   "metadata": {},
   "outputs": [],
   "source": [
    "key = (0.6, 0.6, 0.6)\n",
    "Y1m = SAN_m[key][1]['Y']\n",
    "P1m = SAN_m[key][1]['P']\n",
    "Yn1m = SAN_m[key][1]['Yn']\n",
    "GT = SAN_m[key][1]['GT']\n",
    "t1m = pd.DataFrame(Y1m)  # Create a Pandas DataFrame to plot scatter plots and Histogram of Y\n",
    "sns.pairplot(t1m)\n",
    "plt.show()"
   ]
  },
  {
   "cell_type": "code",
   "execution_count": null,
   "metadata": {},
   "outputs": [],
   "source": [
    "Yn1m[1, :]"
   ]
  },
  {
   "cell_type": "markdown",
   "metadata": {},
   "source": [
    "### Compute PCA "
   ]
  },
  {
   "cell_type": "code",
   "execution_count": null,
   "metadata": {},
   "outputs": [],
   "source": [
    "pca = PCA(n_components=2)\n",
    "Y_r1m = pca.fit(Y1m).transform(Y1m)"
   ]
  },
  {
   "cell_type": "code",
   "execution_count": null,
   "metadata": {
    "scrolled": true
   },
   "outputs": [],
   "source": [
    "labels = []\n",
    "k = 0\n",
    "for v in GT:\n",
    "    labels += [int(k) for vv in range(v)]\n",
    "    k += 1\n",
    "plt.figure()\n",
    "lw = 2\n",
    "plt.scatter(Y_r1m[:, 0], Y_r1m[:, 1], c=labels)\n",
    "plt.show()"
   ]
  },
  {
   "cell_type": "code",
   "execution_count": null,
   "metadata": {},
   "outputs": [],
   "source": [
    "Yn_r1m = pca.fit(Yn1m).transform(Yn1m)\n",
    "labels = []\n",
    "k = 0\n",
    "for v in GT:\n",
    "    labels += [int(k) for vv in range(v)]\n",
    "    k += 1\n",
    "plt.figure()\n",
    "lw = 2\n",
    "plt.scatter(Yn_r1m[:, 0], Yn_r1m[:, 1], c=labels)\n",
    "plt.show()"
   ]
  },
  {
   "cell_type": "code",
   "execution_count": null,
   "metadata": {},
   "outputs": [],
   "source": [
    "# LOAD Entity-to-feature matrix\n",
    "\n",
    "plt.imshow(Y1m,  interpolation='None', aspect='auto', cmap='cool_r')\n",
    "plt.title(\"The Corresponding entity-to-feature matrix\")\n",
    "plt.colorbar()\n",
    "plt.show()\n"
   ]
  },
  {
   "cell_type": "code",
   "execution_count": null,
   "metadata": {
    "scrolled": true
   },
   "outputs": [],
   "source": [
    "for k, v in SAN_m.items():\n",
    "    if k == (0.9, 0.1, 0.9):\n",
    "        for kk, vv in v.items():\n",
    "            print(\"GT:\")\n",
    "            print(vv['GT'])3"
   ]
  },
  {
   "cell_type": "code",
   "execution_count": null,
   "metadata": {},
   "outputs": [],
   "source": [
    "Y1m.shape, Yn1m.shape"
   ]
  },
  {
   "cell_type": "code",
   "execution_count": null,
   "metadata": {},
   "outputs": [],
   "source": []
  }
 ],
 "metadata": {
  "kernelspec": {
   "display_name": "Python 3",
   "language": "python",
   "name": "python3"
  },
  "language_info": {
   "codemirror_mode": {
    "name": "ipython",
    "version": 3
   },
   "file_extension": ".py",
   "mimetype": "text/x-python",
   "name": "python",
   "nbconvert_exporter": "python",
   "pygments_lexer": "ipython3",
   "version": "3.7.3"
  }
 },
 "nbformat": 4,
 "nbformat_minor": 2
}
